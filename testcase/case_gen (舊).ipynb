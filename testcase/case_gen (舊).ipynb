{
 "cells": [
  {
   "cell_type": "code",
   "execution_count": 13,
   "id": "89455022",
   "metadata": {},
   "outputs": [
    {
     "data": {
      "text/plain": [
       "'✅ 已生成 10 筆測資於 Q6 資料夾中。'"
      ]
     },
     "execution_count": 13,
     "metadata": {},
     "output_type": "execute_result"
    }
   ],
   "source": [
    "import os\n",
    "import random\n",
    "\n",
    "# 確保資料夾存在\n",
    "os.makedirs(\"Q6\", exist_ok=True)\n",
    "\n",
    "# 建立單字池（範例性質，可擴充）\n",
    "word_pool = [\n",
    "    \"apple\", \"banana\", \"grape\", \"avocado\", \"mango\", \"peach\", \"watermelon\", \"apricot\",\n",
    "    \"strawberry\", \"pineapple\", \"Saturday\", \"zoo\", \"juice\", \"orange\", \"kiwi\", \"lemon\",\n",
    "    \"blueberry\", \"raspberry\", \"plum\", \"pear\", \"cantaloupe\", \"dragonfruit\", \"papaya\", \"guava\",\n",
    "    \"coconut\", \"fig\", \"nectarine\", \"passionfruit\", \"pomegranate\", \"lychee\", \"tangerine\",\n",
    "    \"date\", \"durian\", \"blackberry\", \"cranberry\", \"mulberry\", \"grapefruit\", \"kumquat\",\n",
    "    \"cherry\", \"persimmon\", \"mangosteen\", \"jackfruit\", \"carrot\", \"broccoli\", \"lettuce\",\n",
    "    \"spinach\", \"cabbage\", \"tomato\", \"onion\", \"garlic\", \"potato\", \"radish\", \"beetroot\",\n",
    "    \"kangaroo\", \"giraffe\", \"elephant\", \"alligator\", \"raccoon\", \"aardvark\", \"anteater\",\n",
    "    \"armadillo\", \"alpaca\", \"baboon\", \"parrot\", \"flamingo\", \"panther\", \"cheetah\", \"camel\",\n",
    "    \"cat\", \"dog\", \"lion\", \"tiger\", \"bear\", \"fox\", \"wolf\", \"swan\", \"eagle\", \"hawk\",\n",
    "    \"blue\", \"red\", \"green\", \"yellow\", \"purple\", \"orange\", \"aqua\", \"azure\", \"amber\", \"beige\"\n",
    "]\n",
    "\n",
    "def count_a(word):\n",
    "    count = 0\n",
    "    for c in word:\n",
    "        if c == 'a':\n",
    "            count += 1\n",
    "    return count\n",
    "\n",
    "# 生成 10 筆測資\n",
    "for i in range(1, 11):\n",
    "    # 隨機選 5~8 個單字\n",
    "    words = random.sample(word_pool, random.randint(5, 20))\n",
    "    max_a_count = -1\n",
    "    answer = \"\"\n",
    "    for word in words:\n",
    "        a_count = count_a(word)\n",
    "        if a_count > max_a_count:\n",
    "            max_a_count = a_count\n",
    "            answer = word\n",
    "    # 檔案內容\n",
    "    content = \" \".join(words) + \"\\n\" + answer\n",
    "    filename = f\"Q6/Q6_testcase_{i:02d}.txt\"\n",
    "    with open(filename, \"w\") as f:\n",
    "        f.write(content+\"\\n\")\n",
    "\n",
    "\"✅ 已生成 10 筆測資於 Q6 資料夾中。\""
   ]
  },
  {
   "cell_type": "code",
   "execution_count": 4,
   "id": "fc452ab4",
   "metadata": {},
   "outputs": [],
   "source": [
    "import os\n",
    "\n",
    "for i in range(1, 11):\n",
    "    filename = f\"Q6/Q6_testcase_{i:02d}.txt\"\n",
    "    if os.path.exists(filename):\n",
    "        os.remove(filename)\n"
   ]
  },
  {
   "cell_type": "code",
   "execution_count": 11,
   "id": "403b1b01",
   "metadata": {},
   "outputs": [
    {
     "data": {
      "text/plain": [
       "'✅ Q5 測資已產生，共 10 筆。'"
      ]
     },
     "execution_count": 11,
     "metadata": {},
     "output_type": "execute_result"
    }
   ],
   "source": [
    "import os\n",
    "import random\n",
    "\n",
    "# 建立 Q5 資料夾（如果尚未存在）\n",
    "os.makedirs(\"Q5\", exist_ok=True)\n",
    "\n",
    "# 生成 10 筆測資\n",
    "for i in range(1, 11):\n",
    "    # 隨機生成 5~10 筆成績，範圍 0~100\n",
    "    grades = [random.randint(0, 100) for _ in range(random.randint(5, 120))]\n",
    "\n",
    "    # 計算加權總分\n",
    "    total = 0\n",
    "    for grade in grades:\n",
    "        if grade <= 40:\n",
    "            total += grade * 1.4\n",
    "        elif 40 < grade <= 60:\n",
    "            total += grade * 1.2\n",
    "        else:\n",
    "            total += grade\n",
    "    average = int(total / len(grades))\n",
    "\n",
    "    # 寫入檔案\n",
    "    filename = f\"Q5/Q5_testcase_{i:02d}.txt\"\n",
    "    with open(filename, \"w\") as f:\n",
    "        f.write(\" \".join(str(g) for g in grades) + \"\\n\")\n",
    "        f.write(f\"{average}\\n\")\n",
    "\n",
    "\"✅ Q5 測資已產生，共 10 筆。\"\n"
   ]
  },
  {
   "cell_type": "code",
   "execution_count": 4,
   "id": "2655e251",
   "metadata": {},
   "outputs": [
    {
     "name": "stdout",
     "output_type": "stream",
     "text": [
      "T\n",
      "T\n",
      "T\n",
      "T\n",
      "T\n",
      "T\n"
     ]
    },
    {
     "data": {
      "text/plain": [
       "'✅ Q4 測資已產生，共 10 筆。'"
      ]
     },
     "execution_count": 4,
     "metadata": {},
     "output_type": "execute_result"
    }
   ],
   "source": [
    "import os\n",
    "\n",
    "# 建立 Q4 資料夾\n",
    "os.makedirs(\"Q4\", exist_ok=True)\n",
    "\n",
    "# 生成 10 筆測資\n",
    "for i in range(1, 11):\n",
    "    time_left = random.randint(0, 60)  # 單位為分鐘\n",
    "    runtime = random.randint(0, 10)      # 每段捷運行駛時間，分鐘\n",
    "    stations = random.randint(1, 10)    # 站數\n",
    "    first_waiting_time = random.choice([5, 10, 15, 20, 25])  # 第一站停靠秒數\n",
    "\n",
    "    # 計算總時間：行駛時間 + 停靠時間（逐站 +10 秒）\n",
    "    total_runtime = runtime * (stations - 1) * 60  # 換成秒\n",
    "    total_waiting_time = 0\n",
    "    for j in range(stations):\n",
    "        total_waiting_time += first_waiting_time + 10 * j\n",
    "\n",
    "    total_travel_time = total_runtime + total_waiting_time\n",
    "    time_left_seconds = time_left * 60\n",
    "\n",
    "    # 判斷是否準時\n",
    "    on_time = total_travel_time <= time_left_seconds\n",
    "    if on_time:\n",
    "        print(\"T\")\n",
    "    # 寫入檔案\n",
    "    filename = f\"Q4/Q4_testcase_{i:02d}.txt\"\n",
    "    with open(filename, \"w\") as f:\n",
    "        f.write(f\"{time_left}\\n{runtime}\\n{stations}\\n{first_waiting_time}\\n\")\n",
    "        f.write(f\"{on_time}\\n\")\n",
    "\n",
    "\"✅ Q4 測資已產生，共 10 筆。\"\n"
   ]
  },
  {
   "cell_type": "code",
   "execution_count": 10,
   "id": "eb068c39",
   "metadata": {},
   "outputs": [
    {
     "data": {
      "text/plain": [
       "'✅ Q3 測資已產生，共 10 筆。'"
      ]
     },
     "execution_count": 10,
     "metadata": {},
     "output_type": "execute_result"
    }
   ],
   "source": [
    "import os\n",
    "import random\n",
    "# 建立 Q3 資料夾\n",
    "os.makedirs(\"Q3\", exist_ok=True)\n",
    "\n",
    "# 生成 10 筆測資\n",
    "for i in range(1, 11):\n",
    "    tree = random.randint(1, 10)\n",
    "    light = random.randint(1, 10)\n",
    "    length = random.randint(1, 120)\n",
    "\n",
    "    road = []\n",
    "    for pos in range(1, length+1):\n",
    "        if pos % light == 0:\n",
    "            road.append(\"💡\")\n",
    "        elif pos % tree == 0:\n",
    "            road.append(\"🌲\")\n",
    "        else:\n",
    "            road.append(\"⬛\")\n",
    "\n",
    "    result = \"\".join(road)\n",
    "\n",
    "    filename = f\"Q3/Q3_testcase_{i:02d}.txt\"\n",
    "    with open(filename, \"w\") as f:\n",
    "        f.write(f\"{tree}\\n{light}\\n{length}\\n\")\n",
    "        f.write(result+\"\\n\")\n",
    "\n",
    "\"✅ Q3 測資已產生，共 10 筆。\"\n"
   ]
  },
  {
   "cell_type": "code",
   "execution_count": 7,
   "id": "5e6dc2ad",
   "metadata": {},
   "outputs": [
    {
     "data": {
      "text/plain": [
       "'✅ Q2 測資已產生，共 10 筆。'"
      ]
     },
     "execution_count": 7,
     "metadata": {},
     "output_type": "execute_result"
    }
   ],
   "source": [
    "# 建立 Q2 資料夾\n",
    "os.makedirs(\"Q2\", exist_ok=True)\n",
    "\n",
    "# 生成 10 筆測資\n",
    "for i in range(1, 11):\n",
    "    smallest = random.randint(5, 20)\n",
    "    largest = random.randint(smallest + 50, smallest + 120)\n",
    "\n",
    "    count = 1\n",
    "    height = smallest\n",
    "    while height <= largest:\n",
    "        height = height * 1.1 + 2\n",
    "        count += 1\n",
    "\n",
    "    filename = f\"Q2/Q2_testcase_{i:02d}.txt\"\n",
    "    with open(filename, \"w\") as f:\n",
    "        f.write(f\"{smallest}\\n{largest}\\n\")\n",
    "        f.write(f\"{count}\\n\")\n",
    "\n",
    "\"✅ Q2 測資已產生，共 10 筆。\"\n"
   ]
  },
  {
   "cell_type": "code",
   "execution_count": 5,
   "metadata": {},
   "outputs": [
    {
     "data": {
      "text/plain": [
       "'✅ Q1 測資已更新，長度已隨機化，共 10 筆。'"
      ]
     },
     "execution_count": 5,
     "metadata": {},
     "output_type": "execute_result"
    }
   ],
   "source": [
    "# 建立 Q1 資料夾（如已存在不會出錯）\n",
    "os.makedirs(\"Q1\", exist_ok=True)\n",
    "\n",
    "# 重新生成符合條件的 10 筆測資（長度不固定）\n",
    "for i in range(1, 11):\n",
    "    # 確定隨機總長度範圍：6 到 15 個價格\n",
    "    total_len = random.randint(2, 150)\n",
    "    \n",
    "    # 先生成 total_len - 1 個不同價格\n",
    "    unique_prices = random.sample(range(1, 3000), total_len - 1)\n",
    "    \n",
    "    # 隨機選一個價格做為重複的價格插入\n",
    "    duplicate_price = random.choice(unique_prices)\n",
    "    cake_price = unique_prices + [duplicate_price]\n",
    "    random.shuffle(cake_price)\n",
    "\n",
    "    # 找出第一個重複的價格\n",
    "    seen = set()\n",
    "    duplicate = None\n",
    "    for price in cake_price:\n",
    "        if price in seen:\n",
    "            duplicate = price\n",
    "            break\n",
    "        seen.add(price)\n",
    "\n",
    "    # 寫入檔案\n",
    "    filename = f\"Q1/Q1_testcase_{i:02d}.txt\"\n",
    "    with open(filename, \"w\") as f:\n",
    "        f.write(\" \".join(str(p) for p in cake_price) + \"\\n\")\n",
    "        f.write(f\"{duplicate}\\n\")\n",
    "\n",
    "\"✅ Q1 測資已更新，長度已隨機化，共 10 筆。\"\n"
   ]
  }
 ],
 "metadata": {
  "kernelspec": {
   "display_name": "base",
   "language": "python",
   "name": "python3"
  },
  "language_info": {
   "codemirror_mode": {
    "name": "ipython",
    "version": 3
   },
   "file_extension": ".py",
   "mimetype": "text/x-python",
   "name": "python",
   "nbconvert_exporter": "python",
   "pygments_lexer": "ipython3",
   "version": "3.10.16"
  }
 },
 "nbformat": 4,
 "nbformat_minor": 5
}
