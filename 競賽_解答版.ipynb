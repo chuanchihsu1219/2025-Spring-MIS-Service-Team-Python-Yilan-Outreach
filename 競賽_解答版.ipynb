{
 "cells": [
  {
   "cell_type": "code",
   "execution_count": 377,
   "metadata": {
    "id": "eAvecB1w-WvO"
   },
   "outputs": [],
   "source": [
    "# 生成題目與測資\n",
    "%run ./init.ipynb"
   ]
  },
  {
   "cell_type": "markdown",
   "metadata": {},
   "source": [
    "# 第一題"
   ]
  },
  {
   "cell_type": "markdown",
   "metadata": {},
   "source": [
    "小智口袋裡有 500 元，如果蛋糕價格高於 500 元就回報「太貴了」，反之回報「可以喔」。"
   ]
  },
  {
   "cell_type": "markdown",
   "metadata": {},
   "source": [
    "### 範例\n",
    "- 輸入：`cake_price` = 520\n",
    "- 輸出：\"太貴了\""
   ]
  },
  {
   "cell_type": "code",
   "execution_count": 378,
   "metadata": {},
   "outputs": [],
   "source": [
    "def sol1(cake_price: int) -> str:\n",
    "    if cake_price > 500:\n",
    "        return \"太貴了\"\n",
    "    else:\n",
    "        return \"可以喔\""
   ]
  },
  {
   "cell_type": "code",
   "execution_count": 379,
   "metadata": {
    "id": "xTAFYmp9-9z3"
   },
   "outputs": [
    {
     "name": "stdout",
     "output_type": "stream",
     "text": [
      "範例測試通過！\n"
     ]
    }
   ],
   "source": [
    "problem[1].check_sample(sol1)"
   ]
  },
  {
   "cell_type": "code",
   "execution_count": 380,
   "metadata": {
    "id": "iU6Dmfvc--a-"
   },
   "outputs": [
    {
     "name": "stdout",
     "output_type": "stream",
     "text": [
      "第 1 筆測試資料通過\n",
      "第 2 筆測試資料通過\n",
      "第 3 筆測試資料通過\n",
      "第 4 筆測試資料通過\n",
      "第 5 筆測試資料通過\n",
      "第 6 筆測試資料通過\n",
      "第 7 筆測試資料通過\n",
      "第 8 筆測試資料通過\n",
      "第 9 筆測試資料通過\n",
      "第 10 筆測試資料通過\n",
      "\n",
      "得分：20\n",
      "\n"
     ]
    }
   ],
   "source": [
    "problem[1].check_ans(sol1)"
   ]
  },
  {
   "cell_type": "markdown",
   "metadata": {},
   "source": [
    "# 第二題"
   ]
  },
  {
   "cell_type": "markdown",
   "metadata": {},
   "source": [
    "小智要設定保險箱密碼保存獨家秘方，但太短的密碼太危險，請幫他檢查候選密碼的長度有沒有大於 10 個字元，有的話回傳「Good」，反之回傳「Bad」。"
   ]
  },
  {
   "cell_type": "markdown",
   "metadata": {},
   "source": [
    "### 範例\n",
    "- 輸入：password = [\"a\", \"b\", \"r\", \"a\", \"c\", \"a\", \"d\", \"a\", \"b\", \"r\", \"a\"]\n",
    "- 輸出：\"Good\""
   ]
  },
  {
   "cell_type": "code",
   "execution_count": 381,
   "metadata": {},
   "outputs": [],
   "source": [
    "def sol2(password: list[str]) -> str:\n",
    "    if len(password) > 10:\n",
    "        return \"Good\"\n",
    "    else:\n",
    "        return \"Bad\""
   ]
  },
  {
   "cell_type": "code",
   "execution_count": 382,
   "metadata": {},
   "outputs": [
    {
     "name": "stdout",
     "output_type": "stream",
     "text": [
      "範例測試通過！\n"
     ]
    }
   ],
   "source": [
    "problem[2].check_sample(sol2)"
   ]
  },
  {
   "cell_type": "code",
   "execution_count": 383,
   "metadata": {},
   "outputs": [
    {
     "name": "stdout",
     "output_type": "stream",
     "text": [
      "第 1 筆測試資料通過\n",
      "第 2 筆測試資料通過\n",
      "第 3 筆測試資料通過\n",
      "第 4 筆測試資料通過\n",
      "第 5 筆測試資料通過\n",
      "第 6 筆測試資料通過\n",
      "第 7 筆測試資料通過\n",
      "第 8 筆測試資料通過\n",
      "第 9 筆測試資料通過\n",
      "第 10 筆測試資料通過\n",
      "\n",
      "得分：20\n",
      "\n"
     ]
    }
   ],
   "source": [
    "problem[2].check_ans(sol2)"
   ]
  },
  {
   "cell_type": "markdown",
   "metadata": {},
   "source": [
    "# 第三題"
   ]
  },
  {
   "cell_type": "markdown",
   "metadata": {},
   "source": [
    "小智的冰淇淋店冬天想換新菜單，想移除一個品項並加上一個品項在最後，幫他製作新菜單。"
   ]
  },
  {
   "cell_type": "markdown",
   "metadata": {},
   "source": [
    "### 範例\n",
    "- 輸入：`menu` = [\"草莓冰淇淋\", \"薄荷冰淇淋\"], `add` = \"紅豆湯\", `delete` = \"薄荷冰淇淋\"\n",
    "- 輸出：[\"草莓冰淇淋\", \"紅豆湯\"]"
   ]
  },
  {
   "cell_type": "code",
   "execution_count": 384,
   "metadata": {},
   "outputs": [],
   "source": [
    "def sol3(menu: list[str], add: str, delete: str) -> list[str]:\n",
    "    menu.append(add)\n",
    "    menu.remove(delete)\n",
    "    return menu"
   ]
  },
  {
   "cell_type": "code",
   "execution_count": 385,
   "metadata": {},
   "outputs": [
    {
     "name": "stdout",
     "output_type": "stream",
     "text": [
      "範例測試通過！\n"
     ]
    }
   ],
   "source": [
    "problem[3].check_sample(sol3)"
   ]
  },
  {
   "cell_type": "code",
   "execution_count": 386,
   "metadata": {},
   "outputs": [
    {
     "name": "stdout",
     "output_type": "stream",
     "text": [
      "第 1 筆測試資料通過\n",
      "第 2 筆測試資料通過\n",
      "第 3 筆測試資料通過\n",
      "第 4 筆測試資料通過\n",
      "第 5 筆測試資料通過\n",
      "第 6 筆測試資料通過\n",
      "第 7 筆測試資料通過\n",
      "第 8 筆測試資料通過\n",
      "第 9 筆測試資料通過\n",
      "第 10 筆測試資料通過\n",
      "\n",
      "得分：30\n",
      "\n",
      "\n"
     ]
    }
   ],
   "source": [
    "problem[3].check_ans(sol3)"
   ]
  },
  {
   "cell_type": "markdown",
   "metadata": {},
   "source": [
    "# 第四題"
   ]
  },
  {
   "cell_type": "markdown",
   "metadata": {},
   "source": [
    "小智想打造巨型俄羅斯娃娃，每個外層娃娃都是內層高度的 1.1 倍再高 2 公分。他想知道最少要打造幾個娃娃才會大於想要的高度。例如第一層是 10 公分，第二層就是 10 × 1.1 + 2 = 13 公分。"
   ]
  },
  {
   "cell_type": "markdown",
   "metadata": {},
   "source": [
    "### 範例\n",
    "- 輸入：`smallest` = 10, `largest` = 90\n",
    "- 輸出：15"
   ]
  },
  {
   "cell_type": "code",
   "execution_count": 387,
   "metadata": {},
   "outputs": [],
   "source": [
    "def sol4(smallest: int, largest: int) -> int:\n",
    "    doll = smallest\n",
    "    times = 1\n",
    "    while doll <= largest:\n",
    "        doll = doll * 1.1 + 2\n",
    "        times = times + 1\n",
    "    return times"
   ]
  },
  {
   "cell_type": "code",
   "execution_count": 388,
   "metadata": {},
   "outputs": [
    {
     "name": "stdout",
     "output_type": "stream",
     "text": [
      "範例測試通過！\n"
     ]
    }
   ],
   "source": [
    "problem[4].check_sample(sol4)"
   ]
  },
  {
   "cell_type": "code",
   "execution_count": 389,
   "metadata": {},
   "outputs": [
    {
     "name": "stdout",
     "output_type": "stream",
     "text": [
      "第 1 筆測試資料通過\n",
      "第 2 筆測試資料通過\n",
      "第 3 筆測試資料通過\n",
      "第 4 筆測試資料通過\n",
      "第 5 筆測試資料通過\n",
      "第 6 筆測試資料通過\n",
      "第 7 筆測試資料通過\n",
      "第 8 筆測試資料通過\n",
      "第 9 筆測試資料通過\n",
      "第 10 筆測試資料通過\n",
      "\n",
      "得分：20\n",
      "\n"
     ]
    }
   ],
   "source": [
    "problem[4].check_ans(sol4)"
   ]
  },
  {
   "cell_type": "markdown",
   "metadata": {},
   "source": [
    "# 第五題"
   ]
  },
  {
   "cell_type": "markdown",
   "metadata": {},
   "source": [
    "小智班上期中考分數出來了，但老師發現班上成績結果不如預期，決定要調分，調分規則如下：\n",
    "- 介於 40 ~ 60（包含 40 和 60）分則乘上 1.2 倍\n",
    "- 低於 40 分則乘上 1.4 倍\n",
    "\n",
    "請幫小智的老師算出調分後的全班分數平均（無條件捨去取到整數）。"
   ]
  },
  {
   "cell_type": "markdown",
   "metadata": {},
   "source": [
    "### 範例\n",
    "- 輸入：`scores` = [39, 55, 71, 65, 59]\n",
    "- 輸出：65"
   ]
  },
  {
   "cell_type": "code",
   "execution_count": 390,
   "metadata": {},
   "outputs": [],
   "source": [
    "def sol5(scores: list[int]) -> int:\n",
    "    total = 0\n",
    "    for grade in scores:\n",
    "        if 40 <= grade <= 60:\n",
    "            total = total + grade * 1.2\n",
    "        elif grade < 40:\n",
    "            total = total + grade * 1.4\n",
    "        else:\n",
    "            total = total + grade\n",
    "    average = total // len(scores)\n",
    "    return average"
   ]
  },
  {
   "cell_type": "code",
   "execution_count": 391,
   "metadata": {},
   "outputs": [
    {
     "name": "stdout",
     "output_type": "stream",
     "text": [
      "範例測試通過！\n"
     ]
    }
   ],
   "source": [
    "problem[5].check_sample(sol5)"
   ]
  },
  {
   "cell_type": "code",
   "execution_count": 392,
   "metadata": {},
   "outputs": [
    {
     "name": "stdout",
     "output_type": "stream",
     "text": [
      "第 1 筆測試資料通過\n",
      "第 2 筆測試資料通過\n",
      "第 3 筆測試資料通過\n",
      "第 4 筆測試資料通過\n",
      "第 5 筆測試資料通過\n",
      "第 6 筆測試資料通過\n",
      "第 7 筆測試資料通過\n",
      "第 8 筆測試資料通過\n",
      "第 9 筆測試資料通過\n",
      "第 10 筆測試資料通過\n",
      "\n",
      "得分：30\n",
      "\n",
      "\n"
     ]
    }
   ],
   "source": [
    "problem[5].check_ans(sol5)"
   ]
  },
  {
   "cell_type": "markdown",
   "metadata": {},
   "source": [
    "# 第六題"
   ]
  },
  {
   "cell_type": "markdown",
   "metadata": {},
   "source": [
    "宜蘭縣政府交通局想要蓋一條新的道路，找小智來設計。希望每隔一段距離種一棵樹、每另一段距離設一盞路燈，如果剛好有位置衝突，則優先設置路燈，因為安全第一！給定每走 tree 步種一棵樹、每走 light 步設一盞路燈，請用表情符號印出整條道路作為示意圖。"
   ]
  },
  {
   "cell_type": "markdown",
   "metadata": {},
   "source": [
    "### 範例\n",
    "- 輸入：`tree` = 6, `light` = 8, `length` = 60\n",
    "- 輸出：\"⬛⬛⬛⬛⬛🌲⬛💡⬛⬛⬛🌲⬛⬛⬛💡⬛🌲⬛⬛⬛⬛⬛💡⬛⬛⬛⬛⬛🌲⬛💡⬛⬛⬛🌲⬛⬛⬛💡⬛🌲⬛⬛⬛⬛⬛💡⬛⬛⬛⬛⬛🌲⬛💡⬛⬛⬛🌲\""
   ]
  },
  {
   "cell_type": "code",
   "execution_count": 393,
   "metadata": {},
   "outputs": [],
   "source": [
    "def sol6(tree: int, light: int, length: int) -> str:\n",
    "    road = \"\"\n",
    "    for i in range(1, length + 1):\n",
    "        if i % light == 0:\n",
    "            road = road + '💡' # 衝突時優先設置路燈\n",
    "        elif i % tree == 0:\n",
    "            road = road + '🌲'\n",
    "        else:\n",
    "            road = road + '⬛'\n",
    "    return road"
   ]
  },
  {
   "cell_type": "code",
   "execution_count": 394,
   "metadata": {},
   "outputs": [
    {
     "name": "stdout",
     "output_type": "stream",
     "text": [
      "範例測試通過！\n"
     ]
    }
   ],
   "source": [
    "problem[6].check_sample(sol6)"
   ]
  },
  {
   "cell_type": "code",
   "execution_count": 395,
   "metadata": {},
   "outputs": [
    {
     "name": "stdout",
     "output_type": "stream",
     "text": [
      "第 1 筆測試資料通過\n",
      "第 2 筆測試資料通過\n",
      "第 3 筆測試資料通過\n",
      "第 4 筆測試資料通過\n",
      "第 5 筆測試資料通過\n",
      "第 6 筆測試資料通過\n",
      "第 7 筆測試資料通過\n",
      "第 8 筆測試資料通過\n",
      "第 9 筆測試資料通過\n",
      "第 10 筆測試資料通過\n",
      "\n",
      "得分：30\n",
      "\n",
      "\n"
     ]
    }
   ],
   "source": [
    "problem[6].check_ans(sol6)"
   ]
  },
  {
   "cell_type": "markdown",
   "metadata": {},
   "source": [
    "# 第七題"
   ]
  },
  {
   "cell_type": "markdown",
   "metadata": {},
   "source": [
    "小智今天上學要遲到了，但他需要搭幾站捷運才能到，他已經計算出從進捷運車廂到出捷運車廂必須要在多少時間（`limit`）內完成才會準時。捷運站間行進時間（存在 `runtime` 裡）不同，但每站停靠的時間（`stop`）相同，請幫小智看看他能不能準時到學校。"
   ]
  },
  {
   "cell_type": "markdown",
   "metadata": {},
   "source": [
    "### 範例\n",
    "- 輸入：`limit` = 26, `runtime` = [5, 6, 4, 3, 4], `stop` = 2\n",
    "- 輸出：False"
   ]
  },
  {
   "cell_type": "code",
   "execution_count": 396,
   "metadata": {},
   "outputs": [],
   "source": [
    "def sol7(limit: int, runtime: list[int], stop: int) -> bool:\n",
    "    total = 0\n",
    "    for time in runtime:\n",
    "        total = total + time\n",
    "    total = total +  stop * (len(runtime) - 1)\n",
    "    if total <= limit:\n",
    "        result = True\n",
    "    else:\n",
    "        result = False\n",
    "    return result"
   ]
  },
  {
   "cell_type": "code",
   "execution_count": 397,
   "metadata": {},
   "outputs": [
    {
     "name": "stdout",
     "output_type": "stream",
     "text": [
      "範例測試通過！\n"
     ]
    }
   ],
   "source": [
    "problem[7].check_sample(sol7)"
   ]
  },
  {
   "cell_type": "code",
   "execution_count": 398,
   "metadata": {},
   "outputs": [
    {
     "name": "stdout",
     "output_type": "stream",
     "text": [
      "第 1 筆測試資料通過\n",
      "第 2 筆測試資料通過\n",
      "第 3 筆測試資料通過\n",
      "第 4 筆測試資料通過\n",
      "第 5 筆測試資料通過\n",
      "第 6 筆測試資料通過\n",
      "第 7 筆測試資料通過\n",
      "第 8 筆測試資料通過\n",
      "第 9 筆測試資料通過\n",
      "第 10 筆測試資料通過\n",
      "\n",
      "得分：30\n",
      "\n",
      "\n"
     ]
    }
   ],
   "source": [
    "problem[7].check_ans(sol7)"
   ]
  },
  {
   "cell_type": "markdown",
   "metadata": {},
   "source": [
    "# 第八題"
   ]
  },
  {
   "cell_type": "markdown",
   "metadata": {},
   "source": [
    "蛋糕有買一送一，只能送價格一樣或比較低的，所以最划算的是找到兩個一樣價格的蛋糕。請幫小智找出出現兩次相同的價格。"
   ]
  },
  {
   "cell_type": "markdown",
   "metadata": {},
   "source": [
    "### 範例\n",
    "- 輸入：`cake_price` = [560, 780, 420, 860, 710, 380, 595, 665, 595]\n",
    "- 輸出：595"
   ]
  },
  {
   "cell_type": "code",
   "execution_count": 399,
   "metadata": {},
   "outputs": [],
   "source": [
    "def sol8(cake_price: list[int]) -> int:\n",
    "    for i in range(len(cake_price)):\n",
    "        price_a = cake_price[i]\n",
    "        for price_b in cake_price[i + 1:]:\n",
    "            if price_a == price_b:\n",
    "                return price_a"
   ]
  },
  {
   "cell_type": "code",
   "execution_count": 400,
   "metadata": {},
   "outputs": [
    {
     "name": "stdout",
     "output_type": "stream",
     "text": [
      "範例測試通過！\n"
     ]
    }
   ],
   "source": [
    "problem[8].check_sample(sol8)"
   ]
  },
  {
   "cell_type": "code",
   "execution_count": 401,
   "metadata": {},
   "outputs": [
    {
     "name": "stdout",
     "output_type": "stream",
     "text": [
      "第 1 筆測試資料通過\n",
      "第 2 筆測試資料通過\n",
      "第 3 筆測試資料通過\n",
      "第 4 筆測試資料通過\n",
      "第 5 筆測試資料通過\n",
      "第 6 筆測試資料通過\n",
      "第 7 筆測試資料通過\n",
      "第 8 筆測試資料通過\n",
      "第 9 筆測試資料通過\n",
      "第 10 筆測試資料通過\n",
      "\n",
      "得分：30\n",
      "\n",
      "\n"
     ]
    }
   ],
   "source": [
    "problem[8].check_ans(sol8)"
   ]
  },
  {
   "cell_type": "markdown",
   "metadata": {},
   "source": [
    "# 第九題"
   ]
  },
  {
   "cell_type": "markdown",
   "metadata": {},
   "source": [
    "英文段考快到了，但因為單字實在太多了，小智決定每天背一點，而他今天打算背包含 a 的英文單字就好。請找出單字表中出現最多次字母 a（小寫）的單字提醒他別忘記。如果出現多個單字有一樣多個 a，選擇最先出現的，因為之前學的比較容易忘記。"
   ]
  },
  {
   "cell_type": "markdown",
   "metadata": {},
   "source": [
    "提示：如果 `fruit` = \"grape\"，則 `fruit[2]` = \"a\"。"
   ]
  },
  {
   "cell_type": "markdown",
   "metadata": {},
   "source": [
    "### 範例\n",
    "- 輸入：`words` = [\"juice\", \"apple\", \"zoo\", \"amazing\", \"banana\"]\n",
    "- 輸出：\"banana\""
   ]
  },
  {
   "cell_type": "code",
   "execution_count": 402,
   "metadata": {},
   "outputs": [],
   "source": [
    "def sol9(words: list[str]) -> str:\n",
    "    max_a_count = -1\n",
    "    result_word = \"\"\n",
    "    for word in words:\n",
    "        a_count = 0\n",
    "        for char in word:\n",
    "            if char == 'a':\n",
    "                a_count = a_count + 1\n",
    "        if a_count > max_a_count:\n",
    "            max_a_count = a_count\n",
    "            result_word = word\n",
    "    return result_word"
   ]
  },
  {
   "cell_type": "code",
   "execution_count": 403,
   "metadata": {},
   "outputs": [
    {
     "name": "stdout",
     "output_type": "stream",
     "text": [
      "範例測試通過！\n"
     ]
    }
   ],
   "source": [
    "problem[9].check_sample(sol9)"
   ]
  },
  {
   "cell_type": "code",
   "execution_count": 404,
   "metadata": {},
   "outputs": [
    {
     "name": "stdout",
     "output_type": "stream",
     "text": [
      "第 1 筆測試資料通過\n",
      "第 2 筆測試資料通過\n",
      "第 3 筆測試資料通過\n",
      "第 4 筆測試資料通過\n",
      "第 5 筆測試資料通過\n",
      "第 6 筆測試資料通過\n",
      "第 7 筆測試資料通過\n",
      "第 8 筆測試資料通過\n",
      "第 9 筆測試資料通過\n",
      "第 10 筆測試資料通過\n",
      "\n",
      "得分：30\n",
      "\n",
      "\n"
     ]
    }
   ],
   "source": [
    "problem[9].check_ans(sol9)"
   ]
  }
 ],
 "metadata": {
  "colab": {
   "provenance": []
  },
  "kernelspec": {
   "display_name": "base",
   "language": "python",
   "name": "python3"
  },
  "language_info": {
   "codemirror_mode": {
    "name": "ipython",
    "version": 3
   },
   "file_extension": ".py",
   "mimetype": "text/x-python",
   "name": "python",
   "nbconvert_exporter": "python",
   "pygments_lexer": "ipython3",
   "version": "3.10.16"
  }
 },
 "nbformat": 4,
 "nbformat_minor": 0
}
