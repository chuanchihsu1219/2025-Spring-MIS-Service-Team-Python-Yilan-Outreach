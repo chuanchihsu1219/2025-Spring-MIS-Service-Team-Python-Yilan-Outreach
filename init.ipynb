{
 "cells": [
  {
   "cell_type": "code",
   "execution_count": null,
   "metadata": {
    "id": "vr13DVulufCF"
   },
   "outputs": [],
   "source": [
    "import inspect\n",
    "import copy"
   ]
  },
  {
   "cell_type": "code",
   "execution_count": null,
   "metadata": {
    "id": "HKWyIt9aufCM"
   },
   "outputs": [],
   "source": [
    "scores = [0, 2, 2, 2, 2, 2, 2, 2, 2, 2]"
   ]
  },
  {
   "cell_type": "code",
   "execution_count": 60,
   "metadata": {
    "id": "jGop9kAWufCN"
   },
   "outputs": [],
   "source": [
    "def parse_type(type_str):\n",
    "    if type_str == \"int\":\n",
    "        return int\n",
    "    elif type_str == \"str\":\n",
    "        return str\n",
    "    elif type_str == \"bool\":\n",
    "        return lambda x: x == \"True\"  # 字串轉 boolean\n",
    "    elif type_str == \"list[int]\":\n",
    "        return lambda x: list(map(int, x.strip().split()))\n",
    "    elif type_str == \"list[str]\":\n",
    "        return lambda x: x.strip().split()\n",
    "    else:\n",
    "        raise ValueError(f\"Unsupported type: {type_str}\")\n",
    "\n",
    "def init(q=1, sample=True):\n",
    "    if sample:\n",
    "        testcase_num = 1\n",
    "        fp = 'sample'\n",
    "    else:\n",
    "        testcase_num = 10\n",
    "        fp = 'testcase'\n",
    "\n",
    "    path = f'./testcase/Q{q}'\n",
    "    with open(path + f'/Q{q}_info.txt') as file:\n",
    "        info = file.readlines()\n",
    "        info = [t.strip() for t in info]\n",
    "\n",
    "        input_num = int(info[0])\n",
    "        input_type = [parse_type(tp) for tp in info[1].split()]\n",
    "        ans_type = [parse_type(tp) for tp in info[2].split()]\n",
    "\n",
    "        params = []\n",
    "\n",
    "        for i in range(1, testcase_num + 1):\n",
    "            with open(path + f'/Q{q}_{fp}_{i:02d}.txt', 'r', encoding=\"utf-8\") as f:\n",
    "                text = [t.strip() for t in f.readlines()]\n",
    "                inputs, ans = text[:input_num], text[input_num:]\n",
    "\n",
    "                # 解析輸入\n",
    "                parsed_inputs = [input_type[j](inputs[j]) for j in range(input_num)]\n",
    "\n",
    "                # 解析輸出\n",
    "                if len(ans_type) > 1:\n",
    "                    parsed_ans = [ans_type[j](ans[j]) for j in range(len(ans_type))]\n",
    "                else:\n",
    "                    parsed_ans = ans_type[0]('\\n'.join(ans))  # 多行輸出轉成單一物件\n",
    "\n",
    "                params.append({'input': parsed_inputs, 'output': parsed_ans})\n",
    "\n",
    "    return params"
   ]
  },
  {
   "cell_type": "code",
   "execution_count": null,
   "metadata": {
    "id": "bV_x6qZhufCP"
   },
   "outputs": [],
   "source": [
    "def map_input(i, var_names, var_vals, ans):\n",
    "    hint_str = f\"【提示】\\n第 {i} 筆測試資料：\\n輸入：{var_names[0]} = {var_vals[0]}\"\n",
    "    for i in range(1, len(var_names)):\n",
    "        hint_str += (f\", {var_names[i]} = {var_vals[i]}\")\n",
    "    hint_str += f\"\\n正確答案： \"\n",
    "    hint_str += f\"{ans}\"\n",
    "    return hint_str"
   ]
  },
  {
   "cell_type": "code",
   "execution_count": null,
   "metadata": {
    "id": "4owe28yWufCQ"
   },
   "outputs": [],
   "source": [
    "class Problem:\n",
    "    def __init__(self, id):\n",
    "        self.id = id\n",
    "        self.sample = init(self.id, True)\n",
    "        self.__testcase = init(self.id, False)\n",
    "        self.score = 0\n",
    "\n",
    "    def check_sample(self, func):\n",
    "        for i, case in enumerate(self.sample):\n",
    "            input = case['input']\n",
    "            ans = case['output']\n",
    "            written_ans = func(*copy.deepcopy(input))\n",
    "            if(written_ans == ans):\n",
    "                # print(f'Sample {i + 1} Passed')\n",
    "                print(\"範例測試通過！\")\n",
    "            else:\n",
    "                # print(f'Sample {i + 1} Failed')\n",
    "                print(\"\\033[91m範例測試失敗！\\033[0m\")\n",
    "\n",
    "    def check_ans(self, func):\n",
    "        score = 0\n",
    "        hint_str = \"\"\n",
    "        for i, case in enumerate(self.__testcase):\n",
    "            input = case['input']\n",
    "            ans = case['output']\n",
    "            written_ans = func(*copy.deepcopy(input))\n",
    "            if(written_ans == ans):\n",
    "                score += scores[self.id]\n",
    "                print(f'第 {i + 1} 筆測試資料通過')\n",
    "            else:\n",
    "                if(hint_str == \"\"):\n",
    "                    hint_str = map_input(i + 1, inspect.getfullargspec(func).args, input, ans)\n",
    "                print(f'\\033[91m第 {i + 1} 筆測試資料失敗\\033[0m')\n",
    "        print(f\"\\n得分：{score}\\n\")\n",
    "        if(score != 20):\n",
    "            print(f\"{hint_str}\")\n",
    "        self.score = max(self.score, score)\n"
   ]
  },
  {
   "cell_type": "code",
   "execution_count": 64,
   "metadata": {
    "colab": {
     "base_uri": "https://localhost:8080/",
     "height": 347
    },
    "executionInfo": {
     "elapsed": 1724,
     "status": "error",
     "timestamp": 1744975064365,
     "user": {
      "displayName": "許權麒",
      "userId": "06121391444420210050"
     },
     "user_tz": -480
    },
    "id": "TpElklioufCR",
    "outputId": "a43fbffa-71b3-46fe-c4d9-7a25dc311e15"
   },
   "outputs": [],
   "source": [
    "problem = [Problem(i) for i in range(1, 10)]\n",
    "problem.insert(0, 0)"
   ]
  },
  {
   "cell_type": "code",
   "execution_count": 65,
   "metadata": {
    "id": "n7cfYk9HufCS"
   },
   "outputs": [],
   "source": [
    "def view_score():\n",
    "    print(f\"得分：{sum([problem[i].score for i in range(1, 7)])}\")"
   ]
  }
 ],
 "metadata": {
  "colab": {
   "provenance": []
  },
  "kernelspec": {
   "display_name": "base",
   "language": "python",
   "name": "python3"
  },
  "language_info": {
   "codemirror_mode": {
    "name": "ipython",
    "version": 3
   },
   "file_extension": ".py",
   "mimetype": "text/x-python",
   "name": "python",
   "nbconvert_exporter": "python",
   "pygments_lexer": "ipython3",
   "version": "3.10.16"
  }
 },
 "nbformat": 4,
 "nbformat_minor": 0
}
