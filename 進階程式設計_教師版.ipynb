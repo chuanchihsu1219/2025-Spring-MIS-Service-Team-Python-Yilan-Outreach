{
 "cells": [
  {
   "cell_type": "markdown",
   "metadata": {
    "id": "O80V2x2O1-ZK"
   },
   "source": [
    "## 複習 list"
   ]
  },
  {
   "cell_type": "markdown",
   "metadata": {
    "id": "SV1IMzxd2JJu"
   },
   "source": [
    "### 練習一\n",
    "小甜甜開了一間甜點店，菜單上有以下這些甜點。"
   ]
  },
  {
   "cell_type": "code",
   "execution_count": null,
   "metadata": {
    "id": "haBEie--192U"
   },
   "outputs": [],
   "source": [
    "menu = [\"提拉米蘇\", \"芒果慕斯\", \"焦糖布丁\", \"達克瓦茲\", \"馬卡龍\", \"抹茶霜淇淋\", \"卡士達泡芙\", \"草莓千層\"]"
   ]
  },
  {
   "cell_type": "markdown",
   "metadata": {
    "id": "vFUR5NYz3XTm"
   },
   "source": [
    "Q：請問總共有幾款甜點？"
   ]
  },
  {
   "cell_type": "code",
   "execution_count": null,
   "metadata": {
    "id": "B-YAJzMPhe0Q"
   },
   "outputs": [],
   "source": [
    "len(menu)"
   ]
  },
  {
   "cell_type": "markdown",
   "metadata": {
    "id": "5fOWlc4-3cHw"
   },
   "source": [
    "Q：菜單上第一個和最後一個甜點分別是？"
   ]
  },
  {
   "cell_type": "code",
   "execution_count": null,
   "metadata": {
    "id": "WeVNE95M3elm"
   },
   "outputs": [],
   "source": [
    "print(menu[0])\n",
    "print(menu[len(menu) - 1])"
   ]
  },
  {
   "cell_type": "markdown",
   "metadata": {
    "id": "17hcbXXK3kTs"
   },
   "source": [
    "### 練習二\n",
    "Q：小甜甜最近新學了一項甜點「鮮奶麻糬」，他要怎麼把這款甜點加入菜單？"
   ]
  },
  {
   "cell_type": "code",
   "execution_count": null,
   "metadata": {
    "id": "a3esLeKm30_4"
   },
   "outputs": [],
   "source": [
    "menu.append(\"鮮奶麻糬\")\n",
    "print(menu)"
   ]
  },
  {
   "cell_type": "markdown",
   "metadata": {
    "id": "9qIJUDmw33Bx"
   },
   "source": [
    "Q：今天實在太熱，抹茶霜淇淋不到下午就銷售一空，可惜抹茶粉庫存不夠用了，請問小甜甜該怎麼把「抹茶霜淇淋」從菜單移除？"
   ]
  },
  {
   "cell_type": "code",
   "execution_count": null,
   "metadata": {
    "id": "uayTArXWhvaE"
   },
   "outputs": [],
   "source": [
    "menu.remove(\"抹茶霜淇淋\")\n",
    "print(menu)"
   ]
  },
  {
   "cell_type": "markdown",
   "metadata": {
    "id": "o5IT3bYV39PZ"
   },
   "source": [
    "## 複習 for\n"
   ]
  },
  {
   "cell_type": "markdown",
   "metadata": {
    "id": "X8zimGyD4SPr"
   },
   "source": [
    "### 練習三\n",
    "Q：小智想點馬卡龍來吃，請問「馬卡龍」是菜單中的第幾項餐點呢？"
   ]
  },
  {
   "cell_type": "code",
   "execution_count": null,
   "metadata": {
    "id": "fB6NERaQh1XV"
   },
   "outputs": [],
   "source": [
    "for i in range(len(menu)):\n",
    "    if menu[i] == \"馬卡龍\":\n",
    "        print(i + 1)"
   ]
  },
  {
   "cell_type": "markdown",
   "metadata": {
    "id": "4GkLYm-s4ieB"
   },
   "source": [
    "## 巢狀迴圈"
   ]
  },
  {
   "cell_type": "markdown",
   "metadata": {
    "id": "t_Drzlqe42l2"
   },
   "source": [
    "### 什麼是巢狀迴圈？"
   ]
  },
  {
   "cell_type": "markdown",
   "metadata": {
    "id": "Xo5yIfVa5Hvd"
   },
   "source": [
    "小智用掉 3 支鉛筆"
   ]
  },
  {
   "cell_type": "code",
   "execution_count": null,
   "metadata": {
    "id": "v6zhPL9A48dM"
   },
   "outputs": [],
   "source": [
    "for j in range(1, 3 + 1):\n",
    "    print(\"小智用了第\", j, \"支鉛筆\")"
   ]
  },
  {
   "cell_type": "markdown",
   "metadata": {
    "id": "57p5v9Yb5OZw"
   },
   "source": [
    "小智用掉 3 盒鉛筆，每盒有 3 支"
   ]
  },
  {
   "cell_type": "code",
   "execution_count": null,
   "metadata": {
    "id": "MS8FBrQq5G1S"
   },
   "outputs": [],
   "source": [
    "for i in range(1, 3 + 1):\n",
    "    for j in range(1, 3 + 1):\n",
    "        print(\"小智用了第\", i, \"盒第\", j, \"支鉛筆\")"
   ]
  },
  {
   "cell_type": "markdown",
   "metadata": {
    "id": "1c8YnXOd5Ykk"
   },
   "source": [
    "### 範例程式"
   ]
  },
  {
   "cell_type": "code",
   "execution_count": null,
   "metadata": {
    "id": "5rhlkA-rjOJ2"
   },
   "outputs": [],
   "source": [
    "for i in range(1, 4):\n",
    "    for j in range(1, 4):\n",
    "        print(str(i) + \"_\" + str(j))"
   ]
  },
  {
   "cell_type": "markdown",
   "metadata": {
    "id": "rYPTHepa5vPe"
   },
   "source": [
    "### 比較兩個迴圈跟兩層迴圈的差別"
   ]
  },
  {
   "cell_type": "markdown",
   "metadata": {},
   "source": [
    "兩個迴圈"
   ]
  },
  {
   "cell_type": "code",
   "execution_count": null,
   "metadata": {
    "id": "6JvKI9eJ6Bd6"
   },
   "outputs": [],
   "source": [
    "for i in range(1, 4):\n",
    "    print(\"i:\", i)\n",
    "for j in range(1, 4):\n",
    "    print(\"j:\", j)"
   ]
  },
  {
   "cell_type": "markdown",
   "metadata": {},
   "source": [
    "兩層迴圈"
   ]
  },
  {
   "cell_type": "code",
   "execution_count": null,
   "metadata": {
    "id": "avFA11Zy5zcq"
   },
   "outputs": [],
   "source": [
    "for i in range(1, 4):\n",
    "    print(\"i:\", i)\n",
    "    for j in range(1, 4):\n",
    "        print(\"j:\", j)"
   ]
  },
  {
   "cell_type": "markdown",
   "metadata": {
    "id": "pDskw56Q6NYJ"
   },
   "source": [
    "### 例題一\n",
    "小智的九九乘法表被他家的狗吃掉了，所以他必須重新寫一張新的九九乘法表，請幫助他完成這張表。"
   ]
  },
  {
   "cell_type": "code",
   "execution_count": null,
   "metadata": {
    "id": "NESF0vVwYNPj"
   },
   "outputs": [],
   "source": [
    "for i in range(1, 10):\n",
    "    for j in range(1, 10):\n",
    "        print(i, \"x\", j, \"=\", i * j)"
   ]
  },
  {
   "cell_type": "markdown",
   "metadata": {
    "id": "V5k6dLGS7RQZ"
   },
   "source": [
    "試試看以下的程式碼"
   ]
  },
  {
   "cell_type": "code",
   "execution_count": null,
   "metadata": {
    "id": "DlV_QPRt7TMx"
   },
   "outputs": [],
   "source": [
    "for i in range(1, 10):\n",
    "    for j in range(1, 10):\n",
    "        print(i, \"x\", j, \"=\", i * j, end = \"\t\t\")\n",
    "    print()"
   ]
  },
  {
   "cell_type": "markdown",
   "metadata": {
    "id": "Qa1B3lZt7a3g"
   },
   "source": [
    "小智終於寫出九九乘法表了，但現在他想要九九乘法表中下半部的結果就好。\n",
    "（提示：只需改變 `j` 的 `range` 範圍）"
   ]
  },
  {
   "cell_type": "code",
   "execution_count": null,
   "metadata": {
    "id": "0t0CcceBZjak"
   },
   "outputs": [],
   "source": [
    "for i in range(1, 10):\n",
    "    for j in range(1, i + 1):\n",
    "        print(i, \"x\", j, \"=\", i * j)\n",
    "    print()"
   ]
  },
  {
   "cell_type": "markdown",
   "metadata": {
    "id": "eUjQOzh-69pR"
   },
   "source": [
    "### 例題二\n",
    "家樂福大特價，A 區商品和 B 區商品各選一件，兩件加起來 100 元以上就可以打八折，請幫小智找出有多少種組合可以打折。"
   ]
  },
  {
   "cell_type": "code",
   "execution_count": null,
   "metadata": {
    "id": "jvqDs-ps69NF"
   },
   "outputs": [],
   "source": [
    "price_a = [50, 35, 45, 55]\n",
    "price_b = [50, 35, 65]"
   ]
  },
  {
   "cell_type": "code",
   "execution_count": null,
   "metadata": {
    "id": "jRDBPMKr7jTt"
   },
   "outputs": [],
   "source": [
    "count = 0\n",
    "for i in range(len(price_a)):\n",
    "    for j in range(len(price_b)):\n",
    "        if price_a[i] + price_b[j] >= 100:\n",
    "            count = count + 1\n",
    "print(count)"
   ]
  },
  {
   "cell_type": "markdown",
   "metadata": {
    "id": "KsW66WUg-fWk"
   },
   "source": [
    "### 例題二練習\n",
    "家樂福大特價，A 區商品和 B 區商品各選一件，兩件加起來 100 元以上就可以打八折，**請幫小智找出可以用最低價買到的組合要多少元**。"
   ]
  },
  {
   "cell_type": "code",
   "execution_count": null,
   "metadata": {
    "id": "3bK-ZtQV-es2"
   },
   "outputs": [],
   "source": [
    "lowest = 0\n",
    "for i in range(len(price_a)):\n",
    "    for j in range(len(price_b)):\n",
    "        if price_a[i] + price_b[j] >= 100:\n",
    "            if lowest == 0:\n",
    "                lowest = price_a[i] + price_b[j]\n",
    "            elif price_a[i] + price_b[j] < lowest:\n",
    "                lowest = price_a[i] + price_b[j]\n",
    "print(lowest)"
   ]
  },
  {
   "cell_type": "markdown",
   "metadata": {
    "id": "O_0mRIgJ8HYl"
   },
   "source": [
    "### 例題三\n",
    "回到家後，小智要幫他的沙漠植物澆水。\n",
    "總共種了三種，分別需要每隔 4、5、6 天澆一次水，他想知道如果今天為三種植物都澆水，接下來的 365 天內總共有幾天要澆超過一次水？"
   ]
  },
  {
   "cell_type": "code",
   "execution_count": null,
   "metadata": {
    "id": "DhdufK5x8SAE"
   },
   "outputs": [],
   "source": [
    "count = 0\n",
    "for day in range(1, 366):\n",
    "    times = 0\n",
    "    for interval in [4, 5, 6]:\n",
    "        if day % interval == 0:\n",
    "            times = times + 1\n",
    "    if times > 1:\n",
    "        count = count + 1\n",
    "print(count)"
   ]
  },
  {
   "cell_type": "markdown",
   "metadata": {},
   "source": [
    "### 例題三練習\n",
    "如果遇到星期日（天數是 7 的倍數時）爸爸會幫他澆，請問接下來的 365 天內總共有幾天他要自己澆超過一次水？"
   ]
  },
  {
   "cell_type": "code",
   "execution_count": null,
   "metadata": {},
   "outputs": [],
   "source": [
    "count = 0\n",
    "for day in range(1, 366):\n",
    "    if day % 7 == 0:\n",
    "        times = 0\n",
    "        for interval in [4, 5, 6]:\n",
    "            if day % interval == 0:\n",
    "                times = times + 1\n",
    "        if times > 1:\n",
    "            count = count + 1\n",
    "print(count)"
   ]
  },
  {
   "cell_type": "markdown",
   "metadata": {
    "id": "7Z8r2Qiv8XDf"
   },
   "source": [
    "### 例題四\n",
    "今天是小智姐姐生日，小智去了蛋糕店，想把蛋糕價格由高到低排列\n",
    "假設我們有 `cake_price` = [560, 780, 420, 860, 710, 380, 665, 595]\n",
    "想要得到 `ordered_price` = [860, 780, 710, 665, 595, 560, 420, 380]\n"
   ]
  },
  {
   "cell_type": "code",
   "execution_count": null,
   "metadata": {
    "id": "vSNXGCp3-GYB"
   },
   "outputs": [],
   "source": [
    "cake_price = [560, 780, 420, 860, 710, 380, 665, 595]"
   ]
  },
  {
   "cell_type": "code",
   "execution_count": null,
   "metadata": {
    "id": "DHNL0-a6ZGTJ"
   },
   "outputs": [],
   "source": [
    "ordered_price = []\n",
    "for i in range(len(cake_price)):\n",
    "    highest = cake_price[0]\n",
    "    for j in range(1, len(cake_price)):\n",
    "        if cake_price[j] > highest:\n",
    "            highest = cake_price[j]\n",
    "    ordered_price.append(highest)\n",
    "    cake_price.remove(highest)\n",
    "\n",
    "print(ordered_price)"
   ]
  },
  {
   "cell_type": "markdown",
   "metadata": {},
   "source": [
    "### 例題四練習\n",
    "現在小智想把蛋糕價格**由低到高**排列"
   ]
  },
  {
   "cell_type": "code",
   "execution_count": null,
   "metadata": {},
   "outputs": [],
   "source": [
    "cake_price = [560, 780, 420, 860, 710, 380, 665, 595]"
   ]
  },
  {
   "cell_type": "code",
   "execution_count": null,
   "metadata": {},
   "outputs": [],
   "source": [
    "ordered_price = []\n",
    "for i in range(len(cake_price)):\n",
    "    lowest = cake_price[0]\n",
    "    for j in range(1, len(cake_price)):\n",
    "        if cake_price[j] < lowest:\n",
    "            lowest = cake_price[j]\n",
    "    ordered_price.append(lowest)\n",
    "    cake_price.remove(lowest)\n",
    "\n",
    "print(ordered_price)"
   ]
  }
 ],
 "metadata": {
  "colab": {
   "provenance": [
    {
     "file_id": "1rQ9gk0Js6wLi4ZfS7fAa1fY-LXjc0f4P",
     "timestamp": 1745030569510
    }
   ]
  },
  "kernelspec": {
   "display_name": "Python 3",
   "language": "python",
   "name": "python3"
  },
  "language_info": {
   "codemirror_mode": {
    "name": "ipython",
    "version": 3
   },
   "file_extension": ".py",
   "mimetype": "text/x-python",
   "name": "python",
   "nbconvert_exporter": "python",
   "pygments_lexer": "ipython3",
   "version": "3.8.5"
  }
 },
 "nbformat": 4,
 "nbformat_minor": 0
}
